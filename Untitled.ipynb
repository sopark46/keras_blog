{
 "cells": [
  {
   "cell_type": "code",
   "execution_count": 1,
   "metadata": {},
   "outputs": [
    {
     "name": "stderr",
     "output_type": "stream",
     "text": [
      "Using TensorFlow backend.\n"
     ]
    }
   ],
   "source": [
    "from keras.models import Sequential\n",
    "from keras.layers import Dense\n",
    "\n",
    "model = Sequential()\n",
    "\n",
    "model.add(Dense(8, input_dim=4, activation=\"relu\", kernel_initializer=\"uniform\"))\n",
    "model.add(Dense(6, kernel_initializer='uniform', activation='relu'))\n",
    "model.add(Dense(1, kernel_initializer='uniform', activation='sigmoid'))"
   ]
  },
  {
   "cell_type": "code",
   "execution_count": 2,
   "metadata": {},
   "outputs": [
    {
     "data": {
      "image/svg+xml": [
       "<svg height=\"294pt\" viewBox=\"0.00 0.00 238.00 294.00\" width=\"238pt\" xmlns=\"http://www.w3.org/2000/svg\" xmlns:xlink=\"http://www.w3.org/1999/xlink\">\n",
       "<g class=\"graph\" id=\"graph0\" transform=\"scale(1 1) rotate(0) translate(4 290)\">\n",
       "<title>G</title>\n",
       "<polygon fill=\"white\" points=\"-4,4 -4,-290 234,-290 234,4 -4,4\" stroke=\"none\"/>\n",
       "<!-- 1899310866672 -->\n",
       "<g class=\"node\" id=\"node1\"><title>1899310866672</title>\n",
       "<polygon fill=\"none\" points=\"0,-166.5 0,-212.5 230,-212.5 230,-166.5 0,-166.5\" stroke=\"black\"/>\n",
       "<text font-family=\"Times New Roman,serif\" font-size=\"14.00\" text-anchor=\"middle\" x=\"52\" y=\"-185.8\">dense_1: Dense</text>\n",
       "<polyline fill=\"none\" points=\"104,-166.5 104,-212.5 \" stroke=\"black\"/>\n",
       "<text font-family=\"Times New Roman,serif\" font-size=\"14.00\" text-anchor=\"middle\" x=\"132\" y=\"-197.3\">input:</text>\n",
       "<polyline fill=\"none\" points=\"104,-189.5 160,-189.5 \" stroke=\"black\"/>\n",
       "<text font-family=\"Times New Roman,serif\" font-size=\"14.00\" text-anchor=\"middle\" x=\"132\" y=\"-174.3\">output:</text>\n",
       "<polyline fill=\"none\" points=\"160,-166.5 160,-212.5 \" stroke=\"black\"/>\n",
       "<text font-family=\"Times New Roman,serif\" font-size=\"14.00\" text-anchor=\"middle\" x=\"195\" y=\"-197.3\">(None, 4)</text>\n",
       "<polyline fill=\"none\" points=\"160,-189.5 230,-189.5 \" stroke=\"black\"/>\n",
       "<text font-family=\"Times New Roman,serif\" font-size=\"14.00\" text-anchor=\"middle\" x=\"195\" y=\"-174.3\">(None, 8)</text>\n",
       "</g>\n",
       "<!-- 1899310899888 -->\n",
       "<g class=\"node\" id=\"node2\"><title>1899310899888</title>\n",
       "<polygon fill=\"none\" points=\"0,-83.5 0,-129.5 230,-129.5 230,-83.5 0,-83.5\" stroke=\"black\"/>\n",
       "<text font-family=\"Times New Roman,serif\" font-size=\"14.00\" text-anchor=\"middle\" x=\"52\" y=\"-102.8\">dense_2: Dense</text>\n",
       "<polyline fill=\"none\" points=\"104,-83.5 104,-129.5 \" stroke=\"black\"/>\n",
       "<text font-family=\"Times New Roman,serif\" font-size=\"14.00\" text-anchor=\"middle\" x=\"132\" y=\"-114.3\">input:</text>\n",
       "<polyline fill=\"none\" points=\"104,-106.5 160,-106.5 \" stroke=\"black\"/>\n",
       "<text font-family=\"Times New Roman,serif\" font-size=\"14.00\" text-anchor=\"middle\" x=\"132\" y=\"-91.3\">output:</text>\n",
       "<polyline fill=\"none\" points=\"160,-83.5 160,-129.5 \" stroke=\"black\"/>\n",
       "<text font-family=\"Times New Roman,serif\" font-size=\"14.00\" text-anchor=\"middle\" x=\"195\" y=\"-114.3\">(None, 8)</text>\n",
       "<polyline fill=\"none\" points=\"160,-106.5 230,-106.5 \" stroke=\"black\"/>\n",
       "<text font-family=\"Times New Roman,serif\" font-size=\"14.00\" text-anchor=\"middle\" x=\"195\" y=\"-91.3\">(None, 6)</text>\n",
       "</g>\n",
       "<!-- 1899310866672&#45;&gt;1899310899888 -->\n",
       "<g class=\"edge\" id=\"edge2\"><title>1899310866672-&gt;1899310899888</title>\n",
       "<path d=\"M115,-166.366C115,-158.152 115,-148.658 115,-139.725\" fill=\"none\" stroke=\"black\"/>\n",
       "<polygon fill=\"black\" points=\"118.5,-139.607 115,-129.607 111.5,-139.607 118.5,-139.607\" stroke=\"black\"/>\n",
       "</g>\n",
       "<!-- 1899411819488 -->\n",
       "<g class=\"node\" id=\"node3\"><title>1899411819488</title>\n",
       "<polygon fill=\"none\" points=\"0,-0.5 0,-46.5 230,-46.5 230,-0.5 0,-0.5\" stroke=\"black\"/>\n",
       "<text font-family=\"Times New Roman,serif\" font-size=\"14.00\" text-anchor=\"middle\" x=\"52\" y=\"-19.8\">dense_3: Dense</text>\n",
       "<polyline fill=\"none\" points=\"104,-0.5 104,-46.5 \" stroke=\"black\"/>\n",
       "<text font-family=\"Times New Roman,serif\" font-size=\"14.00\" text-anchor=\"middle\" x=\"132\" y=\"-31.3\">input:</text>\n",
       "<polyline fill=\"none\" points=\"104,-23.5 160,-23.5 \" stroke=\"black\"/>\n",
       "<text font-family=\"Times New Roman,serif\" font-size=\"14.00\" text-anchor=\"middle\" x=\"132\" y=\"-8.3\">output:</text>\n",
       "<polyline fill=\"none\" points=\"160,-0.5 160,-46.5 \" stroke=\"black\"/>\n",
       "<text font-family=\"Times New Roman,serif\" font-size=\"14.00\" text-anchor=\"middle\" x=\"195\" y=\"-31.3\">(None, 6)</text>\n",
       "<polyline fill=\"none\" points=\"160,-23.5 230,-23.5 \" stroke=\"black\"/>\n",
       "<text font-family=\"Times New Roman,serif\" font-size=\"14.00\" text-anchor=\"middle\" x=\"195\" y=\"-8.3\">(None, 1)</text>\n",
       "</g>\n",
       "<!-- 1899310899888&#45;&gt;1899411819488 -->\n",
       "<g class=\"edge\" id=\"edge3\"><title>1899310899888-&gt;1899411819488</title>\n",
       "<path d=\"M115,-83.3664C115,-75.1516 115,-65.6579 115,-56.7252\" fill=\"none\" stroke=\"black\"/>\n",
       "<polygon fill=\"black\" points=\"118.5,-56.6068 115,-46.6068 111.5,-56.6069 118.5,-56.6068\" stroke=\"black\"/>\n",
       "</g>\n",
       "<!-- 1899411818592 -->\n",
       "<g class=\"node\" id=\"node4\"><title>1899411818592</title>\n",
       "<polygon fill=\"none\" points=\"63,-249.5 63,-285.5 167,-285.5 167,-249.5 63,-249.5\" stroke=\"black\"/>\n",
       "<text font-family=\"Times New Roman,serif\" font-size=\"14.00\" text-anchor=\"middle\" x=\"115\" y=\"-263.8\">1899411818592</text>\n",
       "</g>\n",
       "<!-- 1899411818592&#45;&gt;1899310866672 -->\n",
       "<g class=\"edge\" id=\"edge1\"><title>1899411818592-&gt;1899310866672</title>\n",
       "<path d=\"M115,-249.254C115,-241.363 115,-231.749 115,-222.602\" fill=\"none\" stroke=\"black\"/>\n",
       "<polygon fill=\"black\" points=\"118.5,-222.591 115,-212.591 111.5,-222.591 118.5,-222.591\" stroke=\"black\"/>\n",
       "</g>\n",
       "</g>\n",
       "</svg>"
      ],
      "text/plain": [
       "<IPython.core.display.SVG object>"
      ]
     },
     "execution_count": 2,
     "metadata": {},
     "output_type": "execute_result"
    }
   ],
   "source": [
    "from IPython.display import SVG\n",
    "from keras.utils.vis_utils import model_to_dot\n",
    "\n",
    "SVG(model_to_dot(model, show_shapes=True).create(prog='dot', format='svg'))"
   ]
  },
  {
   "cell_type": "code",
   "execution_count": null,
   "metadata": {},
   "outputs": [],
   "source": []
  }
 ],
 "metadata": {
  "kernelspec": {
   "display_name": "Python 3",
   "language": "python",
   "name": "python3"
  },
  "language_info": {
   "codemirror_mode": {
    "name": "ipython",
    "version": 3
   },
   "file_extension": ".py",
   "mimetype": "text/x-python",
   "name": "python",
   "nbconvert_exporter": "python",
   "pygments_lexer": "ipython3",
   "version": "3.6.7"
  }
 },
 "nbformat": 4,
 "nbformat_minor": 2
}
